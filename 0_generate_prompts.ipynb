{
 "cells": [
  {
   "cell_type": "markdown",
   "metadata": {},
   "source": [
    "## Functions needed to generate the two prompts types for the datasets generation\n",
    "### Functions needed for the prompt generation"
   ]
  },
  {
   "cell_type": "code",
   "execution_count": 1,
   "metadata": {},
   "outputs": [],
   "source": [
    "def generate_prompt_0(tool: dict):\n",
    "   \"\"\"Generates a prompt for a tool.\n",
    "\n",
    "   Args:\n",
    "       tool (dict): A dictionary containing the tool's information.\n",
    "   \"\"\"\n",
    "   answer_format = {\n",
    "        \"user_request\": \"<the generated user request>\",\n",
    "        \"command\": \"command_to_execute(parameters)\"\n",
    "      }\n",
    "   answer_beginning = r'{\"user_request\": \"'\n",
    "   parameters = ', '.join([f'{parameter}: {\" | \".join(types)}' for parameter, types in tool.get('parameters', {}).items()])\n",
    "   tool_description = f\"'{tool['tool_name']}({parameters})' is a tool that {tool['description']}\"\n",
    "   return f\"You are a truthful assistant whose role is to generate 20 possible user requests for the following assistive tool:\\n{tool_description}\\nYou should use the following format for your answers: `{answer_format}`\\nThe users are visually impaired and blind individuals.\\nYour answer:\\n[\\n{answer_beginning}\"\n",
    "\n",
    "def generate_prompt_1(tool: dict):\n",
    "   \"\"\"Generates a prompt for a tool.\n",
    "\n",
    "   Args:\n",
    "       tool (dict): A dictionary containing the tool's information.\n",
    "   \"\"\"\n",
    "   parameters = ', '.join([f'{parameter}: {\" | \".join(types)}' for parameter, types in tool.get('parameters', {}).items()])\n",
    "   tool_description = f\"'{tool['tool_name']}({parameters})' is a tool that {tool['description']}\"\n",
    "   use_case = tool['use_cases'][0]['user_request']\n",
    "   answer_beginning = r'{\"user_request\": \"'\n",
    "   generation_format = {\n",
    "        \"user_request\": tool['use_cases'][0]['user_request'],\n",
    "        \"command\": tool['use_cases'][0]['command']\n",
    "      }\n",
    "   return f\"You are a truthful assistant whose role is to generate 20 possible user requests for the following assistive tool:\\n{tool_description}\\nOne possible user request is: `{use_case}`\\nthe format of the generation should follow this:\\n {generation_format}\\nand you should generate other possible user requests.\\nThe users are visually impaired and blind individuals.\\nYour answer:\\n[\\n{answer_beginning}\""
   ]
  },
  {
   "cell_type": "markdown",
   "metadata": {},
   "source": [
    "## Generate the prompts for the datasets generation"
   ]
  },
  {
   "cell_type": "code",
   "execution_count": 3,
   "metadata": {},
   "outputs": [
    {
     "name": "stdout",
     "output_type": "stream",
     "text": [
      "generate_prompt_0(tools[1]) = 'You are a truthful assistant whose role is to generate 20 possible user requests for the following assistive tool:\\n\\'enumerate_objects()\\' is a tool that Detects objects in the environment and returns a list of recognized objects.\\nYou should use the following format for your answers: `{\\'user_request\\': \\'<the generated user request>\\', \\'command\\': \\'command_to_execute(parameters)\\'}`\\nThe users are visually impaired and blind individuals.\\nYour answer:\\n[\\n{\"user_request\": \"'\n",
      "generate_prompt_1(tools[1]) = 'You are a truthful assistant whose role is to generate 20 possible user requests for the following assistive tool:\\n\\'enumerate_objects()\\' is a tool that Detects objects in the environment and returns a list of recognized objects.\\nOne possible user request is: `What objects are in the room?`\\nthe format of the generation should follow this:\\n {\\'user_request\\': \\'What objects are in the room?\\', \\'command\\': \\'enumerate_objects()\\'}\\nand you should generate other possible user requests.\\nThe users are visually impaired and blind individuals.\\nYour answer:\\n[\\n{\"user_request\": \"'\n"
     ]
    }
   ],
   "source": [
    "import json\n",
    "\n",
    "# Open the file containing the tools descriptions\n",
    "with open('tools/tools.json', encoding='utf-8', mode='r') as json_file:\n",
    "    tools = json.load(json_file)\n",
    "\n",
    "# Generate prompts for the first tool\n",
    "print(f\"{generate_prompt_0(tools[1]) = }\")\n",
    "print(f\"{generate_prompt_1(tools[1]) = }\")\n",
    "\n",
    "\n",
    "# Save the prompts for all the tools in 2 files (prompt_0.json and prompt_1.json)\n",
    "with open('tools/prompts_0.json', encoding='utf-8', mode='w') as json_file:\n",
    "    json.dump([generate_prompt_0(tool) for tool in tools], json_file, indent=2)\n",
    "\n",
    "with open('tools/prompts_1.json', encoding='utf-8', mode='w') as json_file:\n",
    "    json.dump([generate_prompt_1(tool) for tool in tools], json_file, indent=2)\n"
   ]
  }
 ],
 "metadata": {
  "kernelspec": {
   "display_name": "Python 3",
   "language": "python",
   "name": "python3"
  },
  "language_info": {
   "codemirror_mode": {
    "name": "ipython",
    "version": 3
   },
   "file_extension": ".py",
   "mimetype": "text/x-python",
   "name": "python",
   "nbconvert_exporter": "python",
   "pygments_lexer": "ipython3",
   "version": "3.10.11"
  },
  "orig_nbformat": 4
 },
 "nbformat": 4,
 "nbformat_minor": 2
}
